{
  "cells": [
    {
      "cell_type": "markdown",
      "metadata": {
        "id": "F9R6avo9hFB5"
      },
      "source": [
        "# NumPy Упражнения\n",
        "\n",
        "Теперь, когда мы узнали о NumPy, давайте проверим ваши знания. Мы начнем с нескольких простых задач, а затем вам будут заданы более сложные вопросы."
      ]
    },
    {
      "cell_type": "markdown",
      "metadata": {
        "id": "Aj-OYdi9hFB6"
      },
      "source": [
        "#### Импорт NumPy как np"
      ]
    },
    {
      "cell_type": "code",
      "execution_count": null,
      "metadata": {
        "id": "9JBtQBiehFB7"
      },
      "outputs": [],
      "source": []
    },
    {
      "cell_type": "markdown",
      "metadata": {
        "id": "QrTTEIfJhFB7"
      },
      "source": [
        "#### Создание массива из 10 нулей"
      ]
    },
    {
      "cell_type": "code",
      "execution_count": null,
      "metadata": {
        "id": "L6MP6TJZhFB7",
        "outputId": "aabc8782-00b0-4ecd-b81b-6046dcc82616"
      },
      "outputs": [
        {
          "data": {
            "text/plain": [
              "array([ 0.,  0.,  0.,  0.,  0.,  0.,  0.,  0.,  0.,  0.])"
            ]
          },
          "execution_count": 3,
          "metadata": {},
          "output_type": "execute_result"
        }
      ],
      "source": []
    },
    {
      "cell_type": "markdown",
      "metadata": {
        "id": "CBNlWWIlhFB8"
      },
      "source": [
        "#### Создайте массив из 10 единиц"
      ]
    },
    {
      "cell_type": "code",
      "execution_count": null,
      "metadata": {
        "id": "RhiG3EsnhFB9",
        "outputId": "68f713ec-96f2-4d2e-ce3b-58c1b742d724"
      },
      "outputs": [
        {
          "data": {
            "text/plain": [
              "array([ 1.,  1.,  1.,  1.,  1.,  1.,  1.,  1.,  1.,  1.])"
            ]
          },
          "execution_count": 4,
          "metadata": {},
          "output_type": "execute_result"
        }
      ],
      "source": []
    },
    {
      "cell_type": "markdown",
      "metadata": {
        "id": "A8o9VgSZhFB9"
      },
      "source": [
        "#### Создайте массив из 10 пятерок"
      ]
    },
    {
      "cell_type": "code",
      "execution_count": null,
      "metadata": {
        "id": "Z8rIFfxOhFB9"
      },
      "outputs": [],
      "source": []
    },
    {
      "cell_type": "markdown",
      "metadata": {
        "id": "VAQBIycjhFB9"
      },
      "source": [
        "#### Создадим массив целых чисел от 10 до 50"
      ]
    },
    {
      "cell_type": "code",
      "execution_count": null,
      "metadata": {
        "id": "ukXai2nHhFB-",
        "outputId": "f37b7644-04cb-4c45-b035-2924a46a899a"
      },
      "outputs": [
        {
          "data": {
            "text/plain": [
              "array([10, 11, 12, 13, 14, 15, 16, 17, 18, 19, 20, 21, 22, 23, 24, 25, 26,\n",
              "       27, 28, 29, 30, 31, 32, 33, 34, 35, 36, 37, 38, 39, 40, 41, 42, 43,\n",
              "       44, 45, 46, 47, 48, 49, 50])"
            ]
          },
          "execution_count": 11,
          "metadata": {},
          "output_type": "execute_result"
        }
      ],
      "source": []
    },
    {
      "cell_type": "markdown",
      "metadata": {
        "id": "ZrQVY4AghFB-"
      },
      "source": [
        "#### Создадим массив из всех четных целых чисел от 10 до 50"
      ]
    },
    {
      "cell_type": "code",
      "execution_count": null,
      "metadata": {
        "id": "8Ll4Iw3ThFB_",
        "outputId": "c02b9d63-a8e6-498e-f90e-12bed2425ee9"
      },
      "outputs": [
        {
          "data": {
            "text/plain": [
              "array([10, 12, 14, 16, 18, 20, 22, 24, 26, 28, 30, 32, 34, 36, 38, 40, 42,\n",
              "       44, 46, 48, 50])"
            ]
          },
          "execution_count": 12,
          "metadata": {},
          "output_type": "execute_result"
        }
      ],
      "source": []
    },
    {
      "cell_type": "markdown",
      "metadata": {
        "id": "DEEATAyMhFB_"
      },
      "source": [
        "#### Создание матрицы 3x3 со значениями в диапазоне от 0 до 8¶"
      ]
    },
    {
      "cell_type": "code",
      "execution_count": null,
      "metadata": {
        "id": "26iE_3BPhFB_",
        "outputId": "b15374ed-2770-4ee1-f0e3-fced15535d7e"
      },
      "outputs": [
        {
          "data": {
            "text/plain": [
              "matrix([[0, 1, 2],\n",
              "        [3, 4, 5],\n",
              "        [6, 7, 8]])"
            ]
          },
          "execution_count": 13,
          "metadata": {},
          "output_type": "execute_result"
        }
      ],
      "source": []
    },
    {
      "cell_type": "markdown",
      "metadata": {
        "id": "7rnrynvWhFB_"
      },
      "source": [
        "#### Создание единичной матрицы 3x3"
      ]
    },
    {
      "cell_type": "code",
      "execution_count": null,
      "metadata": {
        "id": "8CNkB7KPhFCA",
        "outputId": "8f95814c-5947-4927-a93b-4ad6e4fa005e"
      },
      "outputs": [
        {
          "data": {
            "text/plain": [
              "array([[ 1.,  0.,  0.],\n",
              "       [ 0.,  1.,  0.],\n",
              "       [ 0.,  0.,  1.]])"
            ]
          },
          "execution_count": 15,
          "metadata": {},
          "output_type": "execute_result"
        }
      ],
      "source": []
    },
    {
      "cell_type": "markdown",
      "metadata": {
        "id": "XvAGn3phhFCA"
      },
      "source": [
        "#### Используйте NumPy для генерации случайного числа от 0 до 1"
      ]
    },
    {
      "cell_type": "code",
      "execution_count": null,
      "metadata": {
        "id": "7DBwDhAFhFCA",
        "outputId": "812e8612-a715-477d-9dfa-7b09dcd41898"
      },
      "outputs": [
        {
          "data": {
            "text/plain": [
              "array([ 0.93645765])"
            ]
          },
          "execution_count": 22,
          "metadata": {},
          "output_type": "execute_result"
        }
      ],
      "source": []
    },
    {
      "cell_type": "markdown",
      "metadata": {
        "id": "rXWeFGLBhFCA"
      },
      "source": [
        "#### Используйте NumPy для создания массива из 25 случайных чисел, отобранных из стандартного нормального распределения"
      ]
    },
    {
      "cell_type": "code",
      "execution_count": null,
      "metadata": {
        "id": "Y3ILlEkIhFCA",
        "outputId": "f8722a67-84d1-40ba-bab8-9d3782d24e9a"
      },
      "outputs": [
        {
          "data": {
            "text/plain": [
              "array([ 0.96447606,  0.58595639, -0.24102021, -0.01972777,  0.19623981,\n",
              "       -1.36104766, -0.99439269,  0.88758827, -1.08932569,  0.52450315,\n",
              "       -0.58393132, -0.79123987,  0.07177192, -1.95609962,  1.00678034,\n",
              "        0.43673244, -1.40132582, -0.96302038, -0.52134657, -0.41309678,\n",
              "       -1.90590993, -0.13940084, -0.73902137,  1.09009097, -1.16131202])"
            ]
          },
          "execution_count": 23,
          "metadata": {},
          "output_type": "execute_result"
        }
      ],
      "source": []
    },
    {
      "cell_type": "markdown",
      "metadata": {
        "id": "gTm1oD6GhFCA"
      },
      "source": [
        "#### Создайте матрицу 10 на 10 из равномерно удаленных точек от 0.1 до 1( см linspace):"
      ]
    },
    {
      "cell_type": "code",
      "execution_count": null,
      "metadata": {
        "id": "IdzpOHaahFCA",
        "outputId": "b315cefc-ad1f-499f-d404-2bb1fdb023b1"
      },
      "outputs": [
        {
          "data": {
            "text/plain": [
              "array([[ 0.01,  0.02,  0.03,  0.04,  0.05,  0.06,  0.07,  0.08,  0.09,  0.1 ],\n",
              "       [ 0.11,  0.12,  0.13,  0.14,  0.15,  0.16,  0.17,  0.18,  0.19,  0.2 ],\n",
              "       [ 0.21,  0.22,  0.23,  0.24,  0.25,  0.26,  0.27,  0.28,  0.29,  0.3 ],\n",
              "       [ 0.31,  0.32,  0.33,  0.34,  0.35,  0.36,  0.37,  0.38,  0.39,  0.4 ],\n",
              "       [ 0.41,  0.42,  0.43,  0.44,  0.45,  0.46,  0.47,  0.48,  0.49,  0.5 ],\n",
              "       [ 0.51,  0.52,  0.53,  0.54,  0.55,  0.56,  0.57,  0.58,  0.59,  0.6 ],\n",
              "       [ 0.61,  0.62,  0.63,  0.64,  0.65,  0.66,  0.67,  0.68,  0.69,  0.7 ],\n",
              "       [ 0.71,  0.72,  0.73,  0.74,  0.75,  0.76,  0.77,  0.78,  0.79,  0.8 ],\n",
              "       [ 0.81,  0.82,  0.83,  0.84,  0.85,  0.86,  0.87,  0.88,  0.89,  0.9 ],\n",
              "       [ 0.91,  0.92,  0.93,  0.94,  0.95,  0.96,  0.97,  0.98,  0.99,  1.  ]])"
            ]
          },
          "execution_count": 27,
          "metadata": {},
          "output_type": "execute_result"
        }
      ],
      "source": []
    },
    {
      "cell_type": "markdown",
      "metadata": {
        "id": "hjAth7bdhFCA"
      },
      "source": [
        "#### Создайте массив из 20 линейно удаленных точек от 0 до 1( см linspace):"
      ]
    },
    {
      "cell_type": "code",
      "execution_count": null,
      "metadata": {
        "id": "FGMImXnChFCB",
        "outputId": "8bd309a8-d110-4e7b-c2e6-e2ab8dd054c6"
      },
      "outputs": [
        {
          "data": {
            "text/plain": [
              "array([ 0.        ,  0.05263158,  0.10526316,  0.15789474,  0.21052632,\n",
              "        0.26315789,  0.31578947,  0.36842105,  0.42105263,  0.47368421,\n",
              "        0.52631579,  0.57894737,  0.63157895,  0.68421053,  0.73684211,\n",
              "        0.78947368,  0.84210526,  0.89473684,  0.94736842,  1.        ])"
            ]
          },
          "execution_count": 28,
          "metadata": {},
          "output_type": "execute_result"
        }
      ],
      "source": []
    },
    {
      "cell_type": "markdown",
      "metadata": {
        "id": "56c0KPLnhFCB"
      },
      "source": [
        "## Numpy Индексы\n",
        "\n",
        "В матрице"
      ]
    },
    {
      "cell_type": "code",
      "execution_count": null,
      "metadata": {
        "id": "xWlKeU0shFCB",
        "outputId": "b583f417-9be3-4320-dc24-c17540c4b362"
      },
      "outputs": [
        {
          "data": {
            "text/plain": [
              "array([[ 1,  2,  3,  4,  5],\n",
              "       [ 6,  7,  8,  9, 10],\n",
              "       [11, 12, 13, 14, 15],\n",
              "       [16, 17, 18, 19, 20],\n",
              "       [21, 22, 23, 24, 25]])"
            ]
          },
          "execution_count": 29,
          "metadata": {},
          "output_type": "execute_result"
        }
      ],
      "source": [
        "mat = np.arange(1,26).reshape(5,5)\n",
        "mat"
      ]
    },
    {
      "cell_type": "markdown",
      "source": [
        "Напишите код таким образом, чтоб появился вывод на экран"
      ],
      "metadata": {
        "id": "yNnAUpLqhIrL"
      }
    },
    {
      "cell_type": "code",
      "execution_count": null,
      "metadata": {
        "id": "YlGjBwdqhFCC",
        "outputId": "6e32b352-e01f-4bb4-b684-2b35f1acbefe"
      },
      "outputs": [
        {
          "data": {
            "text/plain": [
              "array([[12, 13, 14, 15],\n",
              "       [17, 18, 19, 20],\n",
              "       [22, 23, 24, 25]])"
            ]
          },
          "execution_count": 67,
          "metadata": {},
          "output_type": "execute_result"
        }
      ],
      "source": [
        "# выведите"
      ]
    },
    {
      "cell_type": "code",
      "source": [
        "# впишите код\n",
        "\n"
      ],
      "metadata": {
        "id": "sQn3pZrIhXNc"
      },
      "execution_count": null,
      "outputs": []
    },
    {
      "cell_type": "code",
      "execution_count": null,
      "metadata": {
        "id": "l06NEJP0hFCC",
        "outputId": "67188c20-4ed3-4556-e7e4-c16ccad4532c"
      },
      "outputs": [
        {
          "data": {
            "text/plain": [
              "array([[12, 13, 14, 15],\n",
              "       [17, 18, 19, 20],\n",
              "       [22, 23, 24, 25]])"
            ]
          },
          "execution_count": 40,
          "metadata": {},
          "output_type": "execute_result"
        }
      ],
      "source": [
        "# выведите"
      ]
    },
    {
      "cell_type": "code",
      "source": [
        "# впишите код\n",
        "\n"
      ],
      "metadata": {
        "id": "tds7l8qChY3k"
      },
      "execution_count": null,
      "outputs": []
    },
    {
      "cell_type": "code",
      "execution_count": null,
      "metadata": {
        "id": "oTYjk2E-hFCC",
        "outputId": "1a708fed-4ba0-4e65-ed59-d1633079adde"
      },
      "outputs": [
        {
          "data": {
            "text/plain": [
              "20"
            ]
          },
          "execution_count": 68,
          "metadata": {},
          "output_type": "execute_result"
        }
      ],
      "source": [
        "# выведите"
      ]
    },
    {
      "cell_type": "code",
      "source": [
        "# впишите код\n",
        "\n"
      ],
      "metadata": {
        "id": "ueknMUJwhkKp"
      },
      "execution_count": null,
      "outputs": []
    },
    {
      "cell_type": "code",
      "execution_count": null,
      "metadata": {
        "id": "oYBQs5jehFCC",
        "outputId": "d3d962da-84d8-43e1-f513-f46be203a5c3"
      },
      "outputs": [
        {
          "data": {
            "text/plain": [
              "20"
            ]
          },
          "execution_count": 41,
          "metadata": {},
          "output_type": "execute_result"
        }
      ],
      "source": [
        "# выведите"
      ]
    },
    {
      "cell_type": "code",
      "source": [
        "# впишите код\n",
        "# отличный от кода выше\n",
        "\n"
      ],
      "metadata": {
        "id": "Kr7XMeJGhmua"
      },
      "execution_count": null,
      "outputs": []
    },
    {
      "cell_type": "code",
      "execution_count": null,
      "metadata": {
        "id": "jnrtET4GhFCC",
        "outputId": "fcd11cb9-7380-442f-9ffb-75f77215ab98"
      },
      "outputs": [
        {
          "data": {
            "text/plain": [
              "array([[ 2],\n",
              "       [ 7],\n",
              "       [12]])"
            ]
          },
          "execution_count": 77,
          "metadata": {},
          "output_type": "execute_result"
        }
      ],
      "source": [
        "# выведите"
      ]
    },
    {
      "cell_type": "code",
      "source": [
        "# впишите код\n",
        "\n",
        "\n"
      ],
      "metadata": {
        "id": "DXXP_gNnhv8w"
      },
      "execution_count": null,
      "outputs": []
    },
    {
      "cell_type": "code",
      "execution_count": null,
      "metadata": {
        "id": "gB_IjxJOhFCC",
        "outputId": "a493084f-64d0-4ddc-8936-a41000572c2e"
      },
      "outputs": [
        {
          "data": {
            "text/plain": [
              "array([[ 2],\n",
              "       [ 7],\n",
              "       [12]])"
            ]
          },
          "execution_count": 42,
          "metadata": {},
          "output_type": "execute_result"
        }
      ],
      "source": [
        "# выведите"
      ]
    },
    {
      "cell_type": "code",
      "source": [
        "# впишите код\n",
        "\n",
        "\n"
      ],
      "metadata": {
        "id": "FFYu8AIrhx4p"
      },
      "execution_count": null,
      "outputs": []
    },
    {
      "cell_type": "code",
      "execution_count": null,
      "metadata": {
        "id": "UsmZl4j4hFCC",
        "outputId": "51ed8ee9-1585-48e4-896b-b6989fe60156"
      },
      "outputs": [
        {
          "data": {
            "text/plain": [
              "array([[21, 22, 23, 24, 25]])"
            ]
          },
          "execution_count": 78,
          "metadata": {},
          "output_type": "execute_result"
        }
      ],
      "source": [
        "# выведите"
      ]
    },
    {
      "cell_type": "code",
      "source": [
        "# впишите код\n",
        "\n",
        "\n"
      ],
      "metadata": {
        "id": "K3ahGZOlhx8w"
      },
      "execution_count": null,
      "outputs": []
    },
    {
      "cell_type": "code",
      "execution_count": null,
      "metadata": {
        "id": "aW39f0BShFCD",
        "outputId": "fd561705-fc2c-40a9-b5d3-319147e89bd1"
      },
      "outputs": [
        {
          "data": {
            "text/plain": [
              "array([21, 22, 23, 24, 25])"
            ]
          },
          "execution_count": 46,
          "metadata": {},
          "output_type": "execute_result"
        }
      ],
      "source": [
        "# выведите"
      ]
    },
    {
      "cell_type": "code",
      "source": [
        "# впишите код\n",
        "\n",
        "\n"
      ],
      "metadata": {
        "id": "i0u5urOih079"
      },
      "execution_count": null,
      "outputs": []
    },
    {
      "cell_type": "code",
      "execution_count": null,
      "metadata": {
        "id": "cFvYnsi3hFCD",
        "outputId": "cf46637b-dc55-40d3-c456-23ab008ddef9"
      },
      "outputs": [
        {
          "data": {
            "text/plain": [
              "array([[16, 17, 18, 19, 20],\n",
              "       [21, 22, 23, 24, 25]])"
            ]
          },
          "execution_count": 80,
          "metadata": {},
          "output_type": "execute_result"
        }
      ],
      "source": [
        "# выведите"
      ]
    },
    {
      "cell_type": "code",
      "source": [
        "# впишите код\n",
        "\n",
        "\n",
        "\n",
        "\n"
      ],
      "metadata": {
        "id": "yHH1ZR3fh371"
      },
      "execution_count": null,
      "outputs": []
    },
    {
      "cell_type": "code",
      "execution_count": null,
      "metadata": {
        "id": "dL3lKgSRhFCD",
        "outputId": "f4586a70-600b-4fad-f6f2-275e95c59d1d"
      },
      "outputs": [
        {
          "data": {
            "text/plain": [
              "array([[16, 17, 18, 19, 20],\n",
              "       [21, 22, 23, 24, 25]])"
            ]
          },
          "execution_count": 49,
          "metadata": {},
          "output_type": "execute_result"
        }
      ],
      "source": [
        "# выведите"
      ]
    },
    {
      "cell_type": "code",
      "source": [
        "# впишите код\n",
        "\n",
        "\n",
        "\n"
      ],
      "metadata": {
        "id": "PPhfmCQ5h5nj"
      },
      "execution_count": null,
      "outputs": []
    },
    {
      "cell_type": "markdown",
      "metadata": {
        "id": "uxBCNgxRhFCD"
      },
      "source": [
        "### Теперь сделайте следующее"
      ]
    },
    {
      "cell_type": "markdown",
      "metadata": {
        "id": "xncEP3schFCM"
      },
      "source": [
        "#### Получить сумму всех значений в mat"
      ]
    },
    {
      "cell_type": "code",
      "execution_count": null,
      "metadata": {
        "id": "zONID4BxhFCM",
        "outputId": "0fe46371-8a66-44bc-8ee8-f8d1d3970fac"
      },
      "outputs": [
        {
          "data": {
            "text/plain": [
              "325"
            ]
          },
          "execution_count": 81,
          "metadata": {},
          "output_type": "execute_result"
        }
      ],
      "source": []
    },
    {
      "cell_type": "markdown",
      "metadata": {
        "id": "NCGhQTamhFCN"
      },
      "source": [
        "#### Получить стандартное отклонение значений в mat (пакет Статистика)"
      ]
    },
    {
      "cell_type": "code",
      "execution_count": null,
      "metadata": {
        "id": "rQy5mhzjhFCN"
      },
      "outputs": [],
      "source": []
    },
    {
      "cell_type": "markdown",
      "metadata": {
        "id": "g6xVICD3hFCN"
      },
      "source": [
        "#### Посчитайте сумму всех столбцов в mat"
      ]
    },
    {
      "cell_type": "code",
      "execution_count": null,
      "metadata": {
        "id": "deV9gzRohFCN"
      },
      "outputs": [],
      "source": []
    }
  ],
  "metadata": {
    "kernelspec": {
      "display_name": "Python 3 (ipykernel)",
      "language": "python",
      "name": "python3"
    },
    "language_info": {
      "codemirror_mode": {
        "name": "ipython",
        "version": 3
      },
      "file_extension": ".py",
      "mimetype": "text/x-python",
      "name": "python",
      "nbconvert_exporter": "python",
      "pygments_lexer": "ipython3",
      "version": "3.9.12"
    },
    "colab": {
      "provenance": []
    }
  },
  "nbformat": 4,
  "nbformat_minor": 0
}